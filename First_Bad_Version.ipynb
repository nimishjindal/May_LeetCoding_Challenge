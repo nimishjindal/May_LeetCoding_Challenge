{
 "cells": [
  {
   "cell_type": "code",
   "execution_count": 1,
   "metadata": {},
   "outputs": [],
   "source": [
    "class Solution:\n",
    "    def __init__(self,arr):\n",
    "        self.versions = arr\n",
    "    def firstBadVersion(self, end,start=0):\n",
    "        if start<=end:\n",
    "            mid = (end+start)//2\n",
    "            if self.isBadVersion(mid):\n",
    "                if not self.isBadVersion(mid-1):\n",
    "                    return mid\n",
    "                return self.firstBadVersion(start=start,end=mid-1)\n",
    "            else:\n",
    "                return self.firstBadVersion(start=mid+1,end=end)\n",
    "        return -1\n",
    "    def isBadVersion(self,i):\n",
    "        try:\n",
    "            return self.versions[i]\n",
    "        except Exception as e:\n",
    "            print(e)\n",
    "            return -1"
   ]
  },
  {
   "cell_type": "code",
   "execution_count": 2,
   "metadata": {},
   "outputs": [
    {
     "name": "stdout",
     "output_type": "stream",
     "text": [
      "3\n"
     ]
    }
   ],
   "source": [
    "arr = [False,False,False,True,True]\n",
    "n = len(arr)\n",
    "\n",
    "s = Solution(arr)\n",
    "print(s.firstBadVersion(n))\n",
    "#ans 3"
   ]
  }
 ],
 "metadata": {
  "kernelspec": {
   "display_name": "Python 3",
   "language": "python",
   "name": "python3"
  },
  "language_info": {
   "codemirror_mode": {
    "name": "ipython",
    "version": 3
   },
   "file_extension": ".py",
   "mimetype": "text/x-python",
   "name": "python",
   "nbconvert_exporter": "python",
   "pygments_lexer": "ipython3",
   "version": "3.7.4"
  }
 },
 "nbformat": 4,
 "nbformat_minor": 2
}
