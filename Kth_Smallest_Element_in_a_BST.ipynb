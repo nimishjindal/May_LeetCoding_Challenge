{
 "cells": [
  {
   "cell_type": "markdown",
   "metadata": {},
   "source": [
    "# Kth Smallest Element in a BST\n",
    "\n",
    "Given a binary search tree, write a function kthSmallest to find the kth smallest element in it.\n",
    "\n",
    "Note:\n",
    "You may assume k is always valid, 1 ≤ k ≤ BST's total elements.\n",
    "\n",
    "Example 1:\n",
    "\n",
    "Input: root = [3,1,4,null,2], k = 1\n",
    "   3\n",
    "  / \\\n",
    " 1   4\n",
    "  \\\n",
    "   2\n",
    "Output: 1\n",
    "Example 2:\n",
    "\n",
    "Input: root = [5,3,6,2,4,null,null,1], k = 3\n",
    "       5\n",
    "      / \\\n",
    "     3   6\n",
    "    / \\\n",
    "   2   4\n",
    "  /\n",
    " 1\n",
    "Output: 3"
   ]
  },
  {
   "cell_type": "code",
   "execution_count": 1,
   "metadata": {},
   "outputs": [],
   "source": [
    "# Definition for a binary tree node.\n",
    "class TreeNode:\n",
    "    def __init__(self, val=0, left=None, right=None):\n",
    "        self.val = val\n",
    "        self.left = left\n",
    "        self.right = right\n",
    "\n",
    "def sol(root, k,pos):\n",
    "        if root:\n",
    "            elem,found = sol(root.left, k, pos)\n",
    "            if found:\n",
    "                return elem,True\n",
    "            \n",
    "            pos[0] += 1\n",
    "\n",
    "            if pos[0] == k:\n",
    "                return root.val,True\n",
    "            \n",
    "            elem,found = sol(root.right, k, pos)\n",
    "            if found:\n",
    "                return elem,True\n",
    "            \n",
    "        return None,False\n",
    "    \n",
    "class Solution:\n",
    "    def kthSmallest(self, root: TreeNode, k: int) -> int:\n",
    "        pos=[0]\n",
    "        ans,found = sol(root, k,pos)\n",
    "        return ans"
   ]
  },
  {
   "cell_type": "code",
   "execution_count": 2,
   "metadata": {},
   "outputs": [],
   "source": [
    "def buildtree(arr,i=0):\n",
    "    if i<len(arr) and arr[i]!=\"null\":\n",
    "        newnode = TreeNode(arr[i])\n",
    "        newnode.left = buildtree(arr,2*i+1)\n",
    "        newnode.right = buildtree(arr,2*i+2)\n",
    "        return newnode\n",
    "    else:\n",
    "        return None\n",
    "    \n",
    "def preorder(root):\n",
    "    if root!=None:\n",
    "        print(root.val,end=\" \")\n",
    "        preorder(root.left)\n",
    "        preorder(root.right)\n"
   ]
  },
  {
   "cell_type": "code",
   "execution_count": 3,
   "metadata": {},
   "outputs": [
    {
     "name": "stdout",
     "output_type": "stream",
     "text": [
      "5 3 2 1 4 6 "
     ]
    },
    {
     "data": {
      "text/plain": [
       "3"
      ]
     },
     "execution_count": 3,
     "metadata": {},
     "output_type": "execute_result"
    }
   ],
   "source": [
    "null = \"null\"\n",
    "arr = [5,3,6,2,4,null,null,1]\n",
    "k = 3\n",
    "\n",
    "root = buildtree(arr)\n",
    "preorder(root)\n",
    "Solution().kthSmallest(root, k)"
   ]
  },
  {
   "cell_type": "code",
   "execution_count": null,
   "metadata": {},
   "outputs": [],
   "source": []
  }
 ],
 "metadata": {
  "kernelspec": {
   "display_name": "Python 3",
   "language": "python",
   "name": "python3"
  },
  "language_info": {
   "codemirror_mode": {
    "name": "ipython",
    "version": 3
   },
   "file_extension": ".py",
   "mimetype": "text/x-python",
   "name": "python",
   "nbconvert_exporter": "python",
   "pygments_lexer": "ipython3",
   "version": "3.7.4"
  }
 },
 "nbformat": 4,
 "nbformat_minor": 2
}
