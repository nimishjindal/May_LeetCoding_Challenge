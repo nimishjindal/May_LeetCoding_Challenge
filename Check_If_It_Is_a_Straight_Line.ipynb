{
 "cells": [
  {
   "cell_type": "markdown",
   "metadata": {},
   "source": [
    "# Check If It Is a Straight Line\n",
    "\n",
    "You are given an array coordinates, coordinates[i] = [x, y], where [x, y] represents the coordinate of a point. Check if these points make a straight line in the XY plane.\n",
    "\n",
    "\n",
    "Example 1:\n",
    "\n",
    "Input: coordinates = [[1,2],[2,3],[3,4],[4,5],[5,6],[6,7]]\n",
    "\n",
    "Output: true\n",
    "\n",
    "\n",
    "Example 2:\n",
    "\n",
    "Input: coordinates = [[1,1],[2,2],[3,4],[4,5],[5,6],[7,7]]\n",
    "\n",
    "Output: false\n",
    " \n",
    "\n",
    "Constraints:\n",
    "\n",
    "2 <= coordinates.length <= 1000\n",
    "\n",
    "coordinates[i].length == 2\n",
    "\n",
    "-10^4 <= coordinates[i][0], coordinates[i][1] <= 10^4\n",
    "\n",
    "coordinates contains no duplicate point."
   ]
  },
  {
   "cell_type": "code",
   "execution_count": 1,
   "metadata": {},
   "outputs": [],
   "source": [
    "class Solution:\n",
    "    def checkStraightLine(self,coordinates):\n",
    "        n = len(coordinates)\n",
    "        if n<=2:\n",
    "            return True\n",
    "        xdiffs = [coordinates[i+1][0]-coordinates[i][0] for i in range(n-1)]\n",
    "        ydiffs = [coordinates[i+1][1]-coordinates[i][1] for i in range(n-1)]\n",
    "        for i in range(1,n-1):\n",
    "            if ydiffs[0]*xdiffs[i] != ydiffs[i]*xdiffs[0]:\n",
    "                return False\n",
    "        return True\n",
    "        "
   ]
  },
  {
   "cell_type": "code",
   "execution_count": 2,
   "metadata": {},
   "outputs": [
    {
     "data": {
      "text/plain": [
       "False"
      ]
     },
     "execution_count": 2,
     "metadata": {},
     "output_type": "execute_result"
    }
   ],
   "source": [
    "coordinates = [[-1,-3],[-2,-2],[-3,-3],[-4,-4]]\n",
    "Solution().checkStraightLine(coordinates)"
   ]
  },
  {
   "cell_type": "code",
   "execution_count": 3,
   "metadata": {},
   "outputs": [
    {
     "data": {
      "text/plain": [
       "True"
      ]
     },
     "execution_count": 3,
     "metadata": {},
     "output_type": "execute_result"
    }
   ],
   "source": [
    "\n",
    "coordinates = [[0,1],[0,2],[0,3],[0,4]]\n",
    "Solution().checkStraightLine(coordinates)"
   ]
  }
 ],
 "metadata": {
  "kernelspec": {
   "display_name": "Python 3",
   "language": "python",
   "name": "python3"
  },
  "language_info": {
   "codemirror_mode": {
    "name": "ipython",
    "version": 3
   },
   "file_extension": ".py",
   "mimetype": "text/x-python",
   "name": "python",
   "nbconvert_exporter": "python",
   "pygments_lexer": "ipython3",
   "version": "3.7.4"
  }
 },
 "nbformat": 4,
 "nbformat_minor": 2
}
