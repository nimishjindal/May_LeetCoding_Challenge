{
 "cells": [
  {
   "cell_type": "markdown",
   "metadata": {},
   "source": [
    "# Permutation in String\n",
    "Solution\n",
    "Given two strings s1 and s2, write a function to return true if s2 contains the permutation of s1. In other words, one of the first string's permutations is the substring of the second string.\n",
    "\n",
    " \n",
    "\n",
    "Example 1:\n",
    "\n",
    "Input: s1 = \"ab\" s2 = \"eidbaooo\"\n",
    "Output: True\n",
    "Explanation: s2 contains one permutation of s1 (\"ba\").\n",
    "Example 2:\n",
    "\n",
    "Input:s1= \"ab\" s2 = \"eidboaoo\"\n",
    "Output: False\n",
    " \n",
    "\n",
    "Note:\n",
    "\n",
    "The input strings only contain lower case letters.\n",
    "The length of both given strings is in range [1, 10,000]."
   ]
  },
  {
   "cell_type": "code",
   "execution_count": 1,
   "metadata": {},
   "outputs": [],
   "source": [
    "from collections import defaultdict\n",
    "def cmp(mp,mt):\n",
    "    for key in mp:\n",
    "        if mp[key]!=mt[key]:\n",
    "            return False\n",
    "    return True\n",
    "\n",
    "class Solution:\n",
    "    def checkInclusion(self, s1: str, s2: str) -> bool:\n",
    "        s = s2\n",
    "        p = s1\n",
    "        \n",
    "        mp = defaultdict(int)\n",
    "        mt = defaultdict(int)\n",
    "        \n",
    "        np = len(p)\n",
    "        ns = len(s)\n",
    "        \n",
    "        if ns==0:\n",
    "            return False\n",
    "        if np==0:\n",
    "            return True\n",
    "        \n",
    "        for ch in p:\n",
    "            mp[ch] += 1\n",
    "        for ch in s[:np]:\n",
    "            mt[ch] += 1\n",
    "        \n",
    "        for i in range(ns-np+1):\n",
    "            if cmp(mp,mt):\n",
    "                return True\n",
    "            mt[s[i]] -= 1\n",
    "            nxt = i+np\n",
    "            if nxt<ns:\n",
    "                mt[s[nxt]] += 1\n",
    "            #print(mt)\n",
    "        return False\n",
    "        "
   ]
  },
  {
   "cell_type": "code",
   "execution_count": 6,
   "metadata": {},
   "outputs": [
    {
     "data": {
      "text/plain": [
       "False"
      ]
     },
     "execution_count": 6,
     "metadata": {},
     "output_type": "execute_result"
    }
   ],
   "source": [
    "s1 = \"ab\"\n",
    "s2 = \"eidboaooo\"\n",
    "Solution().findAnagrams(s2, s1)"
   ]
  },
  {
   "cell_type": "code",
   "execution_count": null,
   "metadata": {},
   "outputs": [],
   "source": [
    "s1 = \"ab\"\n",
    "s2 = \"eidbaooo\"\n",
    "Solution().findAnagrams(s2, s1)"
   ]
  }
 ],
 "metadata": {
  "kernelspec": {
   "display_name": "Python 3",
   "language": "python",
   "name": "python3"
  },
  "language_info": {
   "codemirror_mode": {
    "name": "ipython",
    "version": 3
   },
   "file_extension": ".py",
   "mimetype": "text/x-python",
   "name": "python",
   "nbconvert_exporter": "python",
   "pygments_lexer": "ipython3",
   "version": "3.7.4"
  }
 },
 "nbformat": 4,
 "nbformat_minor": 2
}
