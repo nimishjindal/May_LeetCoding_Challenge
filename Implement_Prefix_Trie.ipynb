{
 "cells": [
  {
   "cell_type": "markdown",
   "metadata": {},
   "source": [
    "# Implement Trie (Prefix Tree)\n",
    "Implement a trie with insert, search, and startsWith methods.\n",
    "\n",
    "Example:\n",
    "\n",
    "Trie trie = new Trie();\n",
    "\n",
    "trie.insert(\"apple\");\n",
    "trie.search(\"apple\");   // returns true\n",
    "trie.search(\"app\");     // returns false\n",
    "trie.startsWith(\"app\"); // returns true\n",
    "trie.insert(\"app\");   \n",
    "trie.search(\"app\");     // returns true\n",
    "Note:\n",
    "\n",
    "You may assume that all inputs are consist of lowercase letters a-z.\n",
    "All inputs are guaranteed to be non-empty strings."
   ]
  },
  {
   "cell_type": "code",
   "execution_count": 1,
   "metadata": {},
   "outputs": [],
   "source": [
    "class Trie:\n",
    "\n",
    "    def __init__(self):\n",
    "        \n",
    "        self.root = {}\n",
    "        \n",
    "\n",
    "    def insert(self, word: str) -> None:\n",
    "        root = self.root\n",
    "        for ch in word:\n",
    "            if ch not in root:\n",
    "                root[ch] = {}\n",
    "            root = root[ch]\n",
    "        #print(root)\n",
    "        root[\"end\"] = True \n",
    "        #print(self.root)\n",
    "\n",
    "    def search(self, word: str) -> bool:\n",
    "        root = self.root\n",
    "        for ch in word:\n",
    "            if ch not in root:\n",
    "                return False\n",
    "            root = root[ch]\n",
    "        return \"end\" in root\n",
    "\n",
    "    def startsWith(self, prefix: str) -> bool:\n",
    "        root = self.root\n",
    "        for ch in prefix:\n",
    "            if ch not in root:\n",
    "                return False\n",
    "            root = root[ch]\n",
    "        return True\n",
    "        \n"
   ]
  },
  {
   "cell_type": "code",
   "execution_count": 2,
   "metadata": {},
   "outputs": [
    {
     "name": "stdout",
     "output_type": "stream",
     "text": [
      "True\n",
      "False\n",
      "True\n",
      "True\n"
     ]
    }
   ],
   "source": [
    "trie = Trie();\n",
    "\n",
    "trie.insert(\"apple\");\n",
    "print(trie.search(\"apple\"));   # returns true\n",
    "print(trie.search(\"app\"));     # returns false\n",
    "print(trie.startsWith(\"ap\")); # returns true\n",
    "trie.insert(\"app\");   \n",
    "print(trie.search(\"app\"));     # returns true"
   ]
  },
  {
   "cell_type": "code",
   "execution_count": null,
   "metadata": {},
   "outputs": [],
   "source": []
  }
 ],
 "metadata": {
  "kernelspec": {
   "display_name": "Python 3",
   "language": "python",
   "name": "python3"
  },
  "language_info": {
   "codemirror_mode": {
    "name": "ipython",
    "version": 3
   },
   "file_extension": ".py",
   "mimetype": "text/x-python",
   "name": "python",
   "nbconvert_exporter": "python",
   "pygments_lexer": "ipython3",
   "version": "3.7.4"
  }
 },
 "nbformat": 4,
 "nbformat_minor": 2
}
