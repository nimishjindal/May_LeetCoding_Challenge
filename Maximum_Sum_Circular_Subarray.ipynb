{
 "cells": [
  {
   "cell_type": "markdown",
   "metadata": {},
   "source": [
    "# Maximum Sum Circular Subarray\n",
    "\n",
    "Given a circular array C of integers represented by A, find the maximum possible sum of a non-empty subarray of C.\n",
    "\n",
    "Here, a circular array means the end of the array connects to the beginning of the array.  (Formally, C[i] = A[i] when 0 <= i < A.length, and C[i+A.length] = C[i] when i >= 0.)\n",
    "\n",
    "Also, a subarray may only include each element of the fixed buffer A at most once.  (Formally, for a subarray C[i], C[i+1], ..., C[j], there does not exist i <= k1, k2 <= j with k1 % A.length = k2 % A.length.)\n",
    "\n",
    " \n",
    "\n",
    "Example 1:\n",
    "\n",
    "Input: [1,-2,3,-2]\n",
    "Output: 3\n",
    "Explanation: Subarray [3] has maximum sum 3\n",
    "Example 2:\n",
    "\n",
    "Input: [5,-3,5]\n",
    "Output: 10\n",
    "Explanation: Subarray [5,5] has maximum sum 5 + 5 = 10\n",
    "Example 3:\n",
    "\n",
    "Input: [3,-1,2,-1]\n",
    "Output: 4\n",
    "Explanation: Subarray [2,-1,3] has maximum sum 2 + (-1) + 3 = 4\n",
    "Example 4:\n",
    "\n",
    "Input: [3,-2,2,-3]\n",
    "Output: 3\n",
    "Explanation: Subarray [3] and [3,-2,2] both have maximum sum 3\n",
    "Example 5:\n",
    "\n",
    "Input: [-2,-3,-1]\n",
    "Output: -1\n",
    "Explanation: Subarray [-1] has maximum sum -1\n",
    " \n",
    "\n",
    "Note:\n",
    "\n",
    "-30000 <= A[i] <= 30000\n",
    "1 <= A.length <= 30000"
   ]
  },
  {
   "cell_type": "code",
   "execution_count": 1,
   "metadata": {},
   "outputs": [],
   "source": [
    "def kadanes(arr):\n",
    "    curmax = 0\n",
    "    finalmax = -30001\n",
    "    for elem in arr:\n",
    "        curmax += elem\n",
    "        finalmax = max(finalmax,curmax)\n",
    "        curmax = max(curmax,0)\n",
    "    return finalmax\n",
    "\n",
    "class Solution:\n",
    "    def maxSubarraySumCircular(self, A) -> int:\n",
    "        high = kadanes(A)\n",
    "        if high<0:\n",
    "            return high\n",
    "        low = kadanes([-a for a in A])\n",
    "        return max(high,sum(A)+low)\n",
    "        "
   ]
  },
  {
   "cell_type": "code",
   "execution_count": 2,
   "metadata": {},
   "outputs": [
    {
     "data": {
      "text/plain": [
       "23"
      ]
     },
     "execution_count": 2,
     "metadata": {},
     "output_type": "execute_result"
    }
   ],
   "source": [
    "A = [-1,1,10,4,-10,9]\n",
    "Solution().maxSubarraySumCircular(A)"
   ]
  },
  {
   "cell_type": "code",
   "execution_count": 3,
   "metadata": {},
   "outputs": [
    {
     "data": {
      "text/plain": [
       "-1"
      ]
     },
     "execution_count": 3,
     "metadata": {},
     "output_type": "execute_result"
    }
   ],
   "source": [
    "A = [-6,-1,-5]\n",
    "Solution().maxSubarraySumCircular(A)"
   ]
  },
  {
   "cell_type": "code",
   "execution_count": 4,
   "metadata": {},
   "outputs": [
    {
     "data": {
      "text/plain": [
       "2"
      ]
     },
     "execution_count": 4,
     "metadata": {},
     "output_type": "execute_result"
    }
   ],
   "source": [
    "A = [1,-1,1]\n",
    "Solution().maxSubarraySumCircular(A)"
   ]
  },
  {
   "cell_type": "code",
   "execution_count": 5,
   "metadata": {},
   "outputs": [
    {
     "data": {
      "text/plain": [
       "0"
      ]
     },
     "execution_count": 5,
     "metadata": {},
     "output_type": "execute_result"
    }
   ],
   "source": [
    "A = [0,-1,-3]\n",
    "Solution().maxSubarraySumCircular(A)"
   ]
  },
  {
   "cell_type": "code",
   "execution_count": null,
   "metadata": {},
   "outputs": [],
   "source": []
  }
 ],
 "metadata": {
  "kernelspec": {
   "display_name": "Python 3",
   "language": "python",
   "name": "python3"
  },
  "language_info": {
   "codemirror_mode": {
    "name": "ipython",
    "version": 3
   },
   "file_extension": ".py",
   "mimetype": "text/x-python",
   "name": "python",
   "nbconvert_exporter": "python",
   "pygments_lexer": "ipython3",
   "version": "3.7.4"
  }
 },
 "nbformat": 4,
 "nbformat_minor": 2
}
