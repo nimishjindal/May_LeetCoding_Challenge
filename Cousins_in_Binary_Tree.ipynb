{
 "cells": [
  {
   "cell_type": "markdown",
   "metadata": {},
   "source": [
    "# Cousins in Binary Tree\n",
    "\n",
    "\n",
    "In a binary tree, the root node is at depth 0, and children of each depth k node are at depth k+1.\n",
    "\n",
    "Two nodes of a binary tree are cousins if they have the same depth, but have different parents.\n",
    "\n",
    "We are given the root of a binary tree with unique values, and the values x and y of two different nodes in the tree.\n",
    "\n",
    "Return true if and only if the nodes corresponding to the values x and y are cousins.\n",
    "\n",
    " \n",
    "\n",
    "Example 1:\n",
    "\n",
    "\n",
    "Input: root = [1,2,3,4], x = 4, y = 3\n",
    "\n",
    "Output: false\n",
    "\n",
    "Example 2:\n",
    "\n",
    "\n",
    "Input: root = [1,2,3,null,4,null,5], x = 5, y = 4\n",
    "\n",
    "Output: true\n",
    "\n",
    "Example 3:\n",
    "\n",
    "\n",
    "\n",
    "Input: root = [1,2,3,null,4], x = 2, y = 3\n",
    "\n",
    "Output: false\n",
    " \n",
    "\n",
    "Note:\n",
    "\n",
    "The number of nodes in the tree will be between 2 and 100.\n",
    "Each node has a unique integer value from 1 to 100.\n",
    " "
   ]
  },
  {
   "cell_type": "code",
   "execution_count": 1,
   "metadata": {},
   "outputs": [],
   "source": [
    "from Node import Node\n",
    "def height(root,x,y,hx,hy,px,py,h=0):\n",
    "    if root != None:\n",
    "        if (root.left!=None and root.left.val == x) or (root.right!=None and root.right.val == x):\n",
    "            hx[0] = h+1\n",
    "            px[0] = root.val\n",
    "        if (root.left!=None and root.left.val == y) or (root.right!=None and root.right.val == y) :\n",
    "            hy[0] = h+1\n",
    "            py[0] = root.val\n",
    "        \n",
    "        if hy[0]==-1 or hx[0]==-1:\n",
    "            height(root.right,x,y,hx,hy,px,py,h+1)\n",
    "        if hy[0]==-1 or hx[0]==-1:\n",
    "            height(root.left ,x,y,hx,hy,px,py,h+1)\n",
    "            \n",
    "class Solution:\n",
    "    def isCousins(self, root,x, y):\n",
    "        hx,hy,px,py = [-1],[-1],[-1],[-1]\n",
    "        height(root,x,y,hx,hy,px,py)\n",
    "        #print(hx,hy,px,py)\n",
    "        return x!=y and px[0]!=py[0] and hx[0]==hy[0]\n"
   ]
  },
  {
   "cell_type": "code",
   "execution_count": 4,
   "metadata": {},
   "outputs": [
    {
     "data": {
      "text/plain": [
       "True"
      ]
     },
     "execution_count": 4,
     "metadata": {},
     "output_type": "execute_result"
    }
   ],
   "source": [
    "root = Node(1)\n",
    "root.left=Node(2)\n",
    "root.right=Node(3)\n",
    "root.left.right = Node(4)\n",
    "root.right.right = Node(5)\n",
    "x = 4\n",
    "y = 5\n",
    "Solution().isCousins(root,x, y)"
   ]
  },
  {
   "cell_type": "code",
   "execution_count": 5,
   "metadata": {},
   "outputs": [
    {
     "data": {
      "text/plain": [
       "False"
      ]
     },
     "execution_count": 5,
     "metadata": {},
     "output_type": "execute_result"
    }
   ],
   "source": [
    "root = [1,2,3,4]\n",
    "root = Node(1)\n",
    "root.left = Node(2)\n",
    "root.right = Node(3)\n",
    "root.left.left = Node(4)\n",
    "x = 1\n",
    "y = 2\n",
    "Solution().isCousins(root,x, y)"
   ]
  }
 ],
 "metadata": {
  "kernelspec": {
   "display_name": "Python 3",
   "language": "python",
   "name": "python3"
  },
  "language_info": {
   "codemirror_mode": {
    "name": "ipython",
    "version": 3
   },
   "file_extension": ".py",
   "mimetype": "text/x-python",
   "name": "python",
   "nbconvert_exporter": "python",
   "pygments_lexer": "ipython3",
   "version": "3.7.4"
  }
 },
 "nbformat": 4,
 "nbformat_minor": 2
}
