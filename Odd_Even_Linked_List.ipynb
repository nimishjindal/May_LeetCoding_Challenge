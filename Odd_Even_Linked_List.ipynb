{
 "cells": [
  {
   "cell_type": "markdown",
   "metadata": {},
   "source": [
    "# Odd Even Linked List\n",
    "Solution\n",
    "Given a singly linked list, group all odd nodes together followed by the even nodes. Please note here we are talking about the node number and not the value in the nodes.\n",
    "\n",
    "You should try to do it in place. The program should run in O(1) space complexity and O(nodes) time complexity.\n",
    "\n",
    "Example 1:\n",
    "\n",
    "Input: 1->2->3->4->5->NULL\n",
    "Output: 1->3->5->2->4->NULL\n",
    "Example 2:\n",
    "\n",
    "Input: 2->1->3->5->6->4->7->NULL\n",
    "Output: 2->3->6->7->1->5->4->NULL\n",
    "Note:\n",
    "\n",
    "The relative order inside both the even and odd groups should remain as it was in the input.\n",
    "The first node is considered odd, the second node even and so on ..."
   ]
  },
  {
   "cell_type": "code",
   "execution_count": 1,
   "metadata": {},
   "outputs": [],
   "source": [
    "# Definition for singly-linked list.\n",
    "class Node:\n",
    "     def __init__(self, val=0, next=None):\n",
    "         self.val = val\n",
    "         self.next = next\n",
    "def show(head):\n",
    "    hcopy = head\n",
    "    while hcopy!=None:\n",
    "        print(hcopy.val,end=\"->\")\n",
    "        hcopy = hcopy.next\n",
    "    print()"
   ]
  },
  {
   "cell_type": "code",
   "execution_count": 2,
   "metadata": {},
   "outputs": [],
   "source": [
    "class Solution:\n",
    "    def oddEvenList(self, head):\n",
    "        if not head:\n",
    "            return head\n",
    "        oddhead = head\n",
    "        curodd = head\n",
    "        \n",
    "        evenhead = head.next\n",
    "        cureven = head.next\n",
    "        \n",
    "        evenend = evenhead\n",
    "        oddend = oddhead\n",
    "        \n",
    "        while curodd and cureven:\n",
    "            \n",
    "            if curodd.next:\n",
    "                curodd.next = curodd.next.next\n",
    "                \n",
    "            if cureven.next:\n",
    "                cureven.next = cureven.next.next\n",
    "            \n",
    "            if curodd.next:\n",
    "                oddend = curodd.next\n",
    "            if cureven.next:\n",
    "                evenend = cureven.next\n",
    "\n",
    "            curodd = curodd.next\n",
    "            cureven = cureven.next\n",
    "            \n",
    "        oddend.next = evenhead"
   ]
  },
  {
   "cell_type": "code",
   "execution_count": 3,
   "metadata": {},
   "outputs": [
    {
     "name": "stdout",
     "output_type": "stream",
     "text": [
      "1->3->5->2->4->6->\n"
     ]
    }
   ],
   "source": [
    "nodes = \"1->2->3->4->5->6\".split(\"->\")\n",
    "head = Node(nodes[0])\n",
    "headc = head\n",
    "for node in nodes[1:]:\n",
    "    headc.next = Node(node)\n",
    "    headc = headc.next\n",
    "Solution().oddEvenList(head)\n",
    "show(head)"
   ]
  },
  {
   "cell_type": "code",
   "execution_count": null,
   "metadata": {},
   "outputs": [],
   "source": []
  }
 ],
 "metadata": {
  "kernelspec": {
   "display_name": "Python 3",
   "language": "python",
   "name": "python3"
  },
  "language_info": {
   "codemirror_mode": {
    "name": "ipython",
    "version": 3
   },
   "file_extension": ".py",
   "mimetype": "text/x-python",
   "name": "python",
   "nbconvert_exporter": "python",
   "pygments_lexer": "ipython3",
   "version": "3.7.4"
  }
 },
 "nbformat": 4,
 "nbformat_minor": 2
}
