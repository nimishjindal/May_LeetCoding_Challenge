{
 "cells": [
  {
   "cell_type": "markdown",
   "metadata": {},
   "source": [
    "# Number Complement\n",
    "\n",
    "Given a positive integer, output its complement number. The complement strategy is to flip the bits of its binary representation.\n",
    "\n",
    " \n",
    "\n",
    "Example 1:\n",
    "\n",
    "Input: 5\n",
    "\n",
    "Output: 2\n",
    "\n",
    "Explanation: The binary representation of 5 is 101 (no leading zero bits), and its complement is 010. \n",
    "So you need to output 2.\n",
    " \n",
    "\n",
    "Example 2:\n",
    "\n",
    "Input: 1\n",
    "\n",
    "Output: 0\n",
    "\n",
    "Explanation: The binary representation of 1 is 1 (no leading zero bits), and its complement is 0. So you need to output 0.\n",
    " \n",
    "\n",
    "Note:\n",
    "\n",
    "The given integer is guaranteed to fit within the range of a 32-bit signed integer.\n",
    "You could assume no leading zero bit in the integer’s binary representation.\n"
   ]
  },
  {
   "cell_type": "code",
   "execution_count": 3,
   "metadata": {},
   "outputs": [],
   "source": [
    "from math import floor, log2\n",
    "class Solution:\n",
    "    def findComplement(self, num: int) -> int:\n",
    "        if num==0:\n",
    "            return 1\n",
    "        size = floor(log2(num))\n",
    "        return num^(2**(size+1)-1)"
   ]
  },
  {
   "cell_type": "code",
   "execution_count": 6,
   "metadata": {},
   "outputs": [
    {
     "name": "stdout",
     "output_type": "stream",
     "text": [
      "complement of 0 is 1\n",
      "complement of 1 is 0\n",
      "complement of 2 is 1\n",
      "complement of 3 is 0\n",
      "complement of 4 is 3\n",
      "complement of 5 is 2\n",
      "complement of 6 is 1\n",
      "complement of 7 is 0\n",
      "complement of 8 is 7\n",
      "complement of 9 is 6\n",
      "complement of 10 is 5\n",
      "complement of 11 is 4\n",
      "complement of 12 is 3\n",
      "complement of 13 is 2\n",
      "complement of 14 is 1\n"
     ]
    }
   ],
   "source": [
    "for i in range(15):\n",
    "    print(\"complement of\",i,\"is\",Solution().findComplement(i))"
   ]
  },
  {
   "cell_type": "code",
   "execution_count": null,
   "metadata": {},
   "outputs": [],
   "source": []
  }
 ],
 "metadata": {
  "kernelspec": {
   "display_name": "Python 3",
   "language": "python",
   "name": "python3"
  },
  "language_info": {
   "codemirror_mode": {
    "name": "ipython",
    "version": 3
   },
   "file_extension": ".py",
   "mimetype": "text/x-python",
   "name": "python",
   "nbconvert_exporter": "python",
   "pygments_lexer": "ipython3",
   "version": "3.7.4"
  }
 },
 "nbformat": 4,
 "nbformat_minor": 2
}
