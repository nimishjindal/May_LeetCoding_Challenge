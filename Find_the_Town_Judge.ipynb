{
 "cells": [
  {
   "cell_type": "markdown",
   "metadata": {},
   "source": [
    "# Find the Town Judge\n",
    "\n",
    "In a town, there are N people labelled from 1 to N.  There is a rumor that one of these people is secretly the town judge.\n",
    "\n",
    "If the town judge exists, then:\n",
    "\n",
    "The town judge trusts nobody.\n",
    "Everybody (except for the town judge) trusts the town judge.\n",
    "There is exactly one person that satisfies properties 1 and 2.\n",
    "You are given trust, an array of pairs trust[i] = [a, b] representing that the person labelled a trusts the person labelled b.\n",
    "\n",
    "If the town judge exists and can be identified, return the label of the town judge.  Otherwise, return -1.\n",
    "\n",
    " \n",
    "\n",
    "Example 1:\n",
    "\n",
    "Input: N = 2, trust = [[1,2]]\n",
    "\n",
    "Output: 2\n",
    "\n",
    "Example 2:\n",
    "\n",
    "Input: N = 3, trust = [[1,3],[2,3]]\n",
    "\n",
    "Output: 3\n",
    "\n",
    "Example 3:\n",
    "\n",
    "Input: N = 3, trust = [[1,3],[2,3],[3,1]]\n",
    "\n",
    "Output: -1\n",
    "\n",
    "Example 4:\n",
    "\n",
    "Input: N = 3, trust = [[1,2],[2,3]]\n",
    "\n",
    "Output: -1\n",
    "\n",
    "Example 5:\n",
    "\n",
    "Input: N = 4, trust = [[1,3],[1,4],[2,3],[2,4],[4,3]]\n",
    "\n",
    "Output: 3\n",
    " \n",
    "\n",
    "Note:\n",
    "\n",
    "1 <= N <= 1000\n",
    "\n",
    "trust.length <= 10000\n",
    "\n",
    "trust[i] are all different\n",
    "\n",
    "trust[i][0] != trust[i][1]\n",
    "\n",
    "1 <= trust[i][0], trust[i][1] <= N"
   ]
  },
  {
   "cell_type": "code",
   "execution_count": 1,
   "metadata": {},
   "outputs": [],
   "source": [
    "class Solution:\n",
    "    def findJudge(self, N,trust):\n",
    "        outedges = [0]*N\n",
    "        inedges = [0]*N\n",
    "        \n",
    "        for me, trusts in trust:\n",
    "            outedges[me-1] += 1\n",
    "            inedges[trusts-1] += 1\n",
    "        \n",
    "        for i in range(N):\n",
    "            if outedges[i]==0 and inedges[i]==N-1:\n",
    "                return i+1\n",
    "        return -1\n",
    "        "
   ]
  },
  {
   "cell_type": "code",
   "execution_count": 2,
   "metadata": {},
   "outputs": [
    {
     "data": {
      "text/plain": [
       "-1"
      ]
     },
     "execution_count": 2,
     "metadata": {},
     "output_type": "execute_result"
    }
   ],
   "source": [
    "N = 3\n",
    "trust = [[1,2],[2,3]]\n",
    "Solution().findJudge(N,trust)"
   ]
  },
  {
   "cell_type": "code",
   "execution_count": 3,
   "metadata": {},
   "outputs": [
    {
     "data": {
      "text/plain": [
       "3"
      ]
     },
     "execution_count": 3,
     "metadata": {},
     "output_type": "execute_result"
    }
   ],
   "source": [
    "N = 3\n",
    "trust = [[1,3],[2,3]]\n",
    "Solution().findJudge(N,trust)"
   ]
  },
  {
   "cell_type": "code",
   "execution_count": 4,
   "metadata": {},
   "outputs": [
    {
     "data": {
      "text/plain": [
       "2"
      ]
     },
     "execution_count": 4,
     "metadata": {},
     "output_type": "execute_result"
    }
   ],
   "source": [
    "N = 2\n",
    "trust = [[1,2]]\n",
    "Solution().findJudge(N,trust)"
   ]
  }
 ],
 "metadata": {
  "kernelspec": {
   "display_name": "Python 3",
   "language": "python",
   "name": "python3"
  },
  "language_info": {
   "codemirror_mode": {
    "name": "ipython",
    "version": 3
   },
   "file_extension": ".py",
   "mimetype": "text/x-python",
   "name": "python",
   "nbconvert_exporter": "python",
   "pygments_lexer": "ipython3",
   "version": "3.7.4"
  }
 },
 "nbformat": 4,
 "nbformat_minor": 2
}
