{
 "cells": [
  {
   "cell_type": "markdown",
   "metadata": {},
   "source": [
    "# Interval List Intersections\n",
    "\n",
    "Given two lists of closed intervals, each list of intervals is pairwise disjoint and in sorted order.\n",
    "\n",
    "Return the intersection of these two interval lists.\n",
    "\n",
    "(Formally, a closed interval [a, b] (with a <= b) denotes the set of real numbers x with a <= x <= b.  The intersection of two closed intervals is a set of real numbers that is either empty, or can be represented as a closed interval.  For example, the intersection of [1, 3] and [2, 4] is [2, 3].)\n",
    "\n",
    " \n",
    "\n",
    "Example 1:\n",
    "\n",
    "\n",
    "\n",
    "Input: A = [[0,2],[5,10],[13,23],[24,25]], B = [[1,5],[8,12],[15,24],[25,26]]\n",
    "Output: [[1,2],[5,5],[8,10],[15,23],[24,24],[25,25]]\n",
    "Reminder: The inputs and the desired output are lists of Interval objects, and not arrays or lists.\n",
    " \n",
    "\n",
    "Note:\n",
    "\n",
    "0 <= A.length < 1000\n",
    "0 <= B.length < 1000\n",
    "0 <= A[i].start, A[i].end, B[i].start, B[i].end < 10^9"
   ]
  },
  {
   "cell_type": "code",
   "execution_count": 1,
   "metadata": {},
   "outputs": [],
   "source": [
    "class Solution:\n",
    "    def intervalIntersection(self, A, B):\n",
    "        ia,ib = 0,0\n",
    "        ans = []\n",
    "        \n",
    "        if len(A)==0 or len(B)==0:\n",
    "            return []\n",
    "        \n",
    "        while ia<len(A) and ib<len(B):\n",
    "            intA = A[ia]\n",
    "            intB = B[ib]\n",
    "            \n",
    "            if intB[0]<=intA[0]:\n",
    "                if intB[1]<intA[0]:\n",
    "                    ib += 1\n",
    "                elif intB[1]<=intA[1]:\n",
    "                    ans.append([intA[0],intB[1]])\n",
    "                    ib += 1\n",
    "                else:\n",
    "                    ans.append(intA)\n",
    "                    ia += 1\n",
    "            elif intB[0]<=intA[1]:\n",
    "                \n",
    "                if intB[1]<=intA[1]:\n",
    "                    ans.append( intB )\n",
    "                    ib += 1\n",
    "                else:\n",
    "                    ans.append( [intB[0],intA[1]] )\n",
    "                    ia += 1\n",
    "            else:\n",
    "                ia += 1\n",
    "        return ans    \n",
    "                \n",
    "                "
   ]
  },
  {
   "cell_type": "code",
   "execution_count": 2,
   "metadata": {},
   "outputs": [
    {
     "data": {
      "text/plain": [
       "[[1, 2], [5, 5], [8, 10], [15, 23], [24, 24], [25, 25]]"
      ]
     },
     "execution_count": 2,
     "metadata": {},
     "output_type": "execute_result"
    }
   ],
   "source": [
    "A = [[0,2],[5,10],[13,23],[24,25]]\n",
    "B = [[1,5],[8,12],[15,24],[25,26]]\n",
    "#Output: [[1,2],[5,5],[8,10],[15,23],[24,24],[25,25]]\n",
    "\n",
    "Solution().intervalIntersection(A, B)"
   ]
  },
  {
   "cell_type": "code",
   "execution_count": null,
   "metadata": {},
   "outputs": [],
   "source": []
  }
 ],
 "metadata": {
  "kernelspec": {
   "display_name": "Python 3",
   "language": "python",
   "name": "python3"
  },
  "language_info": {
   "codemirror_mode": {
    "name": "ipython",
    "version": 3
   },
   "file_extension": ".py",
   "mimetype": "text/x-python",
   "name": "python",
   "nbconvert_exporter": "python",
   "pygments_lexer": "ipython3",
   "version": "3.7.4"
  }
 },
 "nbformat": 4,
 "nbformat_minor": 2
}
