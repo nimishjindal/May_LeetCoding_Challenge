{
 "cells": [
  {
   "cell_type": "markdown",
   "metadata": {},
   "source": [
    "# Construct Binary Search Tree from Preorder Traversal\n",
    "Solution\n",
    "Return the root node of a binary search tree that matches the given preorder traversal.\n",
    "\n",
    "(Recall that a binary search tree is a binary tree where for every node, any descendant of node.left has a value < node.val, and any descendant of node.right has a value > node.val.  Also recall that a preorder traversal displays the value of the node first, then traverses node.left, then traverses node.right.)\n",
    "\n",
    "It's guaranteed that for the given test cases there is always possible to find a binary search tree with the given requirements.\n",
    "\n",
    "Example 1:\n",
    "\n",
    "Input: [8,5,1,7,10,12]\n",
    "Output: [8,5,10,1,7,null,12]\n",
    "\n",
    " \n",
    "\n",
    "Constraints:\n",
    "\n",
    "1 <= preorder.length <= 100\n",
    "1 <= preorder[i] <= 10^8\n",
    "The values of preorder are distinct."
   ]
  },
  {
   "cell_type": "code",
   "execution_count": 1,
   "metadata": {},
   "outputs": [],
   "source": [
    "# Definition for a binary tree node.\n",
    "class TreeNode:\n",
    "    def __init__(self, x):\n",
    "        self.val = x\n",
    "        self.left = None\n",
    "        self.right = None\n",
    "\n",
    "def insert(root,data):\n",
    "    if root==None:\n",
    "        root = TreeNode(data)\n",
    "        return root\n",
    "    if data<root.val:\n",
    "        if root.left == None:\n",
    "            root.left = TreeNode(data)\n",
    "        else:\n",
    "            root.left = insert(root.left,data)\n",
    "        return root\n",
    "    else:\n",
    "        if root.right == None:\n",
    "            root.right = TreeNode(data)\n",
    "        else:\n",
    "            root.right = insert(root.right,data)\n",
    "        return root\n",
    "\n",
    "def traverse(root):\n",
    "    if root!=None:\n",
    "        traverse(root.left)\n",
    "        print(root.val,end=\" \")\n",
    "        traverse(root.right)\n",
    "\n",
    "    \n",
    "class Solution:\n",
    "    def bstFromPreorder(self, preorder) -> TreeNode:\n",
    "        \n",
    "        root = None\n",
    "        for data in preorder:\n",
    "            root = insert(root,data)\n",
    "        return root\n",
    "        "
   ]
  },
  {
   "cell_type": "code",
   "execution_count": 2,
   "metadata": {},
   "outputs": [
    {
     "name": "stdout",
     "output_type": "stream",
     "text": [
      "1 5 7 8 10 12 "
     ]
    }
   ],
   "source": [
    "preorder = [8,5,1,7,10,12]\n",
    "root = Solution().bstFromPreorder(preorder)\n",
    "traverse(root)"
   ]
  },
  {
   "cell_type": "code",
   "execution_count": null,
   "metadata": {},
   "outputs": [],
   "source": []
  }
 ],
 "metadata": {
  "kernelspec": {
   "display_name": "Python 3",
   "language": "python",
   "name": "python3"
  },
  "language_info": {
   "codemirror_mode": {
    "name": "ipython",
    "version": 3
   },
   "file_extension": ".py",
   "mimetype": "text/x-python",
   "name": "python",
   "nbconvert_exporter": "python",
   "pygments_lexer": "ipython3",
   "version": "3.7.4"
  }
 },
 "nbformat": 4,
 "nbformat_minor": 2
}
